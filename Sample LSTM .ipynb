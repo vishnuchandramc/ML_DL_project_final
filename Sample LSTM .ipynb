{
 "cells": [
  {
   "cell_type": "code",
   "execution_count": 5,
   "id": "4a8c80d7",
   "metadata": {},
   "outputs": [],
   "source": [
    "import numpy\n",
    "import matplotlib.pyplot as plt\n",
    "import pandas\n",
    "import math\n",
    "from keras.models import Sequential\n",
    "from keras.layers import Dense\n",
    "from keras.layers import LSTM\n",
    "from sklearn.preprocessing import MinMaxScaler\n",
    "from sklearn.metrics import mean_squared_error"
   ]
  },
  {
   "cell_type": "code",
   "execution_count": 6,
   "id": "41ff3545",
   "metadata": {},
   "outputs": [],
   "source": [
    "dataframe = pandas.read_csv('statewise_csv/Andhra Pradesh .csv', usecols=[1], engine='python')\n",
    "dataset = dataframe.values\n",
    "dataset = dataset.astype('float32')"
   ]
  },
  {
   "cell_type": "code",
   "execution_count": 7,
   "id": "bf2f51b1",
   "metadata": {},
   "outputs": [],
   "source": [
    "scaler = MinMaxScaler(feature_range=(0, 1))\n",
    "dataset = scaler.fit_transform(dataset)"
   ]
  },
  {
   "cell_type": "code",
   "execution_count": 8,
   "id": "551d4ccf",
   "metadata": {},
   "outputs": [
    {
     "name": "stdout",
     "output_type": "stream",
     "text": [
      "24 13\n"
     ]
    }
   ],
   "source": [
    "train_size = int(len(dataset) * 0.67)\n",
    "test_size = len(dataset) - train_size\n",
    "train, test = dataset[0:train_size,:], dataset[train_size:len(dataset),:]\n",
    "print(len(train), len(test))"
   ]
  },
  {
   "cell_type": "code",
   "execution_count": 17,
   "id": "fbe0f8a5",
   "metadata": {},
   "outputs": [],
   "source": [
    "def create_dataset(dataset, look_back=1):\n",
    "    dataX, dataY = [], []\n",
    "    for i in range(len(dataset)-look_back-1):\n",
    "        a = dataset[i:(i+look_back), 0]\n",
    "        dataX.append(a)\n",
    "        dataY.append(dataset[i + look_back, 0])\n",
    "    return numpy.array(dataX), numpy.array(dataY)"
   ]
  },
  {
   "cell_type": "code",
   "execution_count": 10,
   "id": "449ec16e",
   "metadata": {},
   "outputs": [],
   "source": [
    "look_back = 1\n",
    "trainX, trainY = create_dataset(train, look_back)\n",
    "testX, testY = create_dataset(test, look_back)"
   ]
  },
  {
   "cell_type": "code",
   "execution_count": 11,
   "id": "c246fa31",
   "metadata": {},
   "outputs": [],
   "source": [
    "trainX = numpy.reshape(trainX, (trainX.shape[0], 1, trainX.shape[1]))\n",
    "testX = numpy.reshape(testX, (testX.shape[0], 1, testX.shape[1]))"
   ]
  },
  {
   "cell_type": "code",
   "execution_count": 12,
   "id": "55e50bb9",
   "metadata": {},
   "outputs": [
    {
     "name": "stdout",
     "output_type": "stream",
     "text": [
      "Epoch 1/100\n",
      "22/22 - 3s - loss: 0.0134\n",
      "Epoch 2/100\n",
      "22/22 - 0s - loss: 0.0103\n",
      "Epoch 3/100\n",
      "22/22 - 0s - loss: 0.0089\n",
      "Epoch 4/100\n",
      "22/22 - 0s - loss: 0.0080\n",
      "Epoch 5/100\n",
      "22/22 - 0s - loss: 0.0077\n",
      "Epoch 6/100\n",
      "22/22 - 0s - loss: 0.0074\n",
      "Epoch 7/100\n",
      "22/22 - 0s - loss: 0.0072\n",
      "Epoch 8/100\n",
      "22/22 - 0s - loss: 0.0071\n",
      "Epoch 9/100\n",
      "22/22 - 0s - loss: 0.0070\n",
      "Epoch 10/100\n",
      "22/22 - 0s - loss: 0.0069\n",
      "Epoch 11/100\n",
      "22/22 - 0s - loss: 0.0067\n",
      "Epoch 12/100\n",
      "22/22 - 0s - loss: 0.0066\n",
      "Epoch 13/100\n",
      "22/22 - 0s - loss: 0.0065\n",
      "Epoch 14/100\n",
      "22/22 - 0s - loss: 0.0063\n",
      "Epoch 15/100\n",
      "22/22 - 0s - loss: 0.0063\n",
      "Epoch 16/100\n",
      "22/22 - 0s - loss: 0.0063\n",
      "Epoch 17/100\n",
      "22/22 - 0s - loss: 0.0061\n",
      "Epoch 18/100\n",
      "22/22 - 0s - loss: 0.0059\n",
      "Epoch 19/100\n",
      "22/22 - 0s - loss: 0.0059\n",
      "Epoch 20/100\n",
      "22/22 - 0s - loss: 0.0057\n",
      "Epoch 21/100\n",
      "22/22 - 0s - loss: 0.0056\n",
      "Epoch 22/100\n",
      "22/22 - 0s - loss: 0.0055\n",
      "Epoch 23/100\n",
      "22/22 - 0s - loss: 0.0054\n",
      "Epoch 24/100\n",
      "22/22 - 0s - loss: 0.0053\n",
      "Epoch 25/100\n",
      "22/22 - 0s - loss: 0.0051\n",
      "Epoch 26/100\n",
      "22/22 - 0s - loss: 0.0051\n",
      "Epoch 27/100\n",
      "22/22 - 0s - loss: 0.0049\n",
      "Epoch 28/100\n",
      "22/22 - 0s - loss: 0.0049\n",
      "Epoch 29/100\n",
      "22/22 - 0s - loss: 0.0047\n",
      "Epoch 30/100\n",
      "22/22 - 0s - loss: 0.0047\n",
      "Epoch 31/100\n",
      "22/22 - 0s - loss: 0.0045\n",
      "Epoch 32/100\n",
      "22/22 - 0s - loss: 0.0044\n",
      "Epoch 33/100\n",
      "22/22 - 0s - loss: 0.0044\n",
      "Epoch 34/100\n",
      "22/22 - 0s - loss: 0.0042\n",
      "Epoch 35/100\n",
      "22/22 - 0s - loss: 0.0041\n",
      "Epoch 36/100\n",
      "22/22 - 0s - loss: 0.0040\n",
      "Epoch 37/100\n",
      "22/22 - 0s - loss: 0.0040\n",
      "Epoch 38/100\n",
      "22/22 - 0s - loss: 0.0037\n",
      "Epoch 39/100\n",
      "22/22 - 0s - loss: 0.0036\n",
      "Epoch 40/100\n",
      "22/22 - 0s - loss: 0.0036\n",
      "Epoch 41/100\n",
      "22/22 - 0s - loss: 0.0034\n",
      "Epoch 42/100\n",
      "22/22 - 0s - loss: 0.0033\n",
      "Epoch 43/100\n",
      "22/22 - 0s - loss: 0.0032\n",
      "Epoch 44/100\n",
      "22/22 - 0s - loss: 0.0031\n",
      "Epoch 45/100\n",
      "22/22 - 0s - loss: 0.0030\n",
      "Epoch 46/100\n",
      "22/22 - 0s - loss: 0.0028\n",
      "Epoch 47/100\n",
      "22/22 - 0s - loss: 0.0027\n",
      "Epoch 48/100\n",
      "22/22 - 0s - loss: 0.0026\n",
      "Epoch 49/100\n",
      "22/22 - 0s - loss: 0.0024\n",
      "Epoch 50/100\n",
      "22/22 - 0s - loss: 0.0024\n",
      "Epoch 51/100\n",
      "22/22 - 0s - loss: 0.0023\n",
      "Epoch 52/100\n",
      "22/22 - 0s - loss: 0.0021\n",
      "Epoch 53/100\n",
      "22/22 - 0s - loss: 0.0019\n",
      "Epoch 54/100\n",
      "22/22 - 0s - loss: 0.0018\n",
      "Epoch 55/100\n",
      "22/22 - 0s - loss: 0.0017\n",
      "Epoch 56/100\n",
      "22/22 - 0s - loss: 0.0016\n",
      "Epoch 57/100\n",
      "22/22 - 0s - loss: 0.0014\n",
      "Epoch 58/100\n",
      "22/22 - 0s - loss: 0.0014\n",
      "Epoch 59/100\n",
      "22/22 - 0s - loss: 0.0013\n",
      "Epoch 60/100\n",
      "22/22 - 0s - loss: 0.0011\n",
      "Epoch 61/100\n",
      "22/22 - 0s - loss: 0.0011\n",
      "Epoch 62/100\n",
      "22/22 - 0s - loss: 9.3943e-04\n",
      "Epoch 63/100\n",
      "22/22 - 0s - loss: 8.6389e-04\n",
      "Epoch 64/100\n",
      "22/22 - 0s - loss: 7.8814e-04\n",
      "Epoch 65/100\n",
      "22/22 - 0s - loss: 7.2344e-04\n",
      "Epoch 66/100\n",
      "22/22 - 0s - loss: 6.6633e-04\n",
      "Epoch 67/100\n",
      "22/22 - 0s - loss: 6.1576e-04\n",
      "Epoch 68/100\n",
      "22/22 - 0s - loss: 5.3838e-04\n",
      "Epoch 69/100\n",
      "22/22 - 0s - loss: 4.9416e-04\n",
      "Epoch 70/100\n",
      "22/22 - 0s - loss: 4.5793e-04\n",
      "Epoch 71/100\n",
      "22/22 - 0s - loss: 4.2134e-04\n",
      "Epoch 72/100\n",
      "22/22 - 0s - loss: 3.8749e-04\n",
      "Epoch 73/100\n",
      "22/22 - 0s - loss: 3.5945e-04\n",
      "Epoch 74/100\n",
      "22/22 - 0s - loss: 3.5308e-04\n",
      "Epoch 75/100\n",
      "22/22 - 0s - loss: 3.1713e-04\n",
      "Epoch 76/100\n",
      "22/22 - 0s - loss: 3.1905e-04\n",
      "Epoch 77/100\n",
      "22/22 - 0s - loss: 2.9143e-04\n",
      "Epoch 78/100\n",
      "22/22 - 0s - loss: 2.8860e-04\n",
      "Epoch 79/100\n",
      "22/22 - 0s - loss: 2.6433e-04\n",
      "Epoch 80/100\n",
      "22/22 - 0s - loss: 2.8629e-04\n",
      "Epoch 81/100\n",
      "22/22 - 0s - loss: 2.5848e-04\n",
      "Epoch 82/100\n",
      "22/22 - 0s - loss: 2.5516e-04\n",
      "Epoch 83/100\n",
      "22/22 - 0s - loss: 2.5247e-04\n",
      "Epoch 84/100\n",
      "22/22 - 0s - loss: 2.4932e-04\n",
      "Epoch 85/100\n",
      "22/22 - 0s - loss: 2.5269e-04\n",
      "Epoch 86/100\n",
      "22/22 - 0s - loss: 2.4408e-04\n",
      "Epoch 87/100\n",
      "22/22 - 0s - loss: 2.4665e-04\n",
      "Epoch 88/100\n",
      "22/22 - 0s - loss: 2.4086e-04\n",
      "Epoch 89/100\n",
      "22/22 - 0s - loss: 2.4843e-04\n",
      "Epoch 90/100\n",
      "22/22 - 0s - loss: 2.4113e-04\n",
      "Epoch 91/100\n",
      "22/22 - 0s - loss: 2.4692e-04\n",
      "Epoch 92/100\n",
      "22/22 - 0s - loss: 2.5106e-04\n",
      "Epoch 93/100\n",
      "22/22 - 0s - loss: 2.4651e-04\n",
      "Epoch 94/100\n",
      "22/22 - 0s - loss: 2.4315e-04\n",
      "Epoch 95/100\n",
      "22/22 - 0s - loss: 2.4330e-04\n",
      "Epoch 96/100\n",
      "22/22 - 0s - loss: 2.4191e-04\n",
      "Epoch 97/100\n",
      "22/22 - 0s - loss: 2.4706e-04\n",
      "Epoch 98/100\n",
      "22/22 - 0s - loss: 2.4432e-04\n",
      "Epoch 99/100\n",
      "22/22 - 0s - loss: 2.6074e-04\n",
      "Epoch 100/100\n",
      "22/22 - 0s - loss: 2.3823e-04\n"
     ]
    },
    {
     "data": {
      "text/plain": [
       "<tensorflow.python.keras.callbacks.History at 0x7f90180c6940>"
      ]
     },
     "execution_count": 12,
     "metadata": {},
     "output_type": "execute_result"
    }
   ],
   "source": [
    "model = Sequential()\n",
    "model.add(LSTM(4, input_shape=(1, look_back)))\n",
    "model.add(Dense(1))\n",
    "model.compile(loss='mean_squared_error', optimizer='adam')\n",
    "model.fit(trainX, trainY, epochs=100, batch_size=1, verbose=2)"
   ]
  },
  {
   "cell_type": "code",
   "execution_count": 13,
   "id": "8ce1eec9",
   "metadata": {},
   "outputs": [
    {
     "name": "stdout",
     "output_type": "stream",
     "text": [
      "Train Score: 551.06 RMSE\n",
      "Test Score: 6614.20 RMSE\n"
     ]
    }
   ],
   "source": [
    "# make predictions\n",
    "trainPredict = model.predict(trainX)\n",
    "testPredict = model.predict(testX)\n",
    "# invert predictions\n",
    "trainPredict = scaler.inverse_transform(trainPredict)\n",
    "trainY = scaler.inverse_transform([trainY])\n",
    "testPredict = scaler.inverse_transform(testPredict)\n",
    "testY = scaler.inverse_transform([testY])\n",
    "# calculate root mean squared error\n",
    "trainScore = math.sqrt(mean_squared_error(trainY[0], trainPredict[:,0]))\n",
    "print('Train Score: %.2f RMSE' % (trainScore))\n",
    "testScore = math.sqrt(mean_squared_error(testY[0], testPredict[:,0]))\n",
    "print('Test Score: %.2f RMSE' % (testScore))"
   ]
  },
  {
   "cell_type": "code",
   "execution_count": 14,
   "id": "22e6ac03",
   "metadata": {},
   "outputs": [
    {
     "data": {
      "image/png": "[encoded data removed]",
      "text/plain": [
       "<Figure size 432x288 with 1 Axes>"
      ]
     },
     "metadata": {
      "needs_background": "light"
     },
     "output_type": "display_data"
    }
   ],
   "source": [
    "# shift train predictions for plotting\n",
    "trainPredictPlot = numpy.empty_like(dataset)\n",
    "trainPredictPlot[:, :] = numpy.nan\n",
    "trainPredictPlot[look_back:len(trainPredict)+look_back, :] = trainPredict\n",
    "# shift test predictions for plotting\n",
    "testPredictPlot = numpy.empty_like(dataset)\n",
    "testPredictPlot[:, :] = numpy.nan\n",
    "testPredictPlot[len(trainPredict)+(look_back*2)+1:len(dataset)-1, :] = testPredict\n",
    "# plot baseline and predictions\n",
    "plt.plot(scaler.inverse_transform(dataset))\n",
    "plt.plot(trainPredictPlot)\n",
    "plt.plot(testPredictPlot)\n",
    "plt.show()"
   ]
  },
  {
   "cell_type": "code",
   "execution_count": null,
   "id": "33eb905d",
   "metadata": {},
   "outputs": [],
   "source": []
  }
 ],
 "metadata": {
  "kernelspec": {
   "display_name": "Python 3",
   "language": "python",
   "name": "python3"
  },
  "language_info": {
   "codemirror_mode": {
    "name": "ipython",
    "version": 3
   },
   "file_extension": ".py",
   "mimetype": "text/x-python",
   "name": "python",
   "nbconvert_exporter": "python",
   "pygments_lexer": "ipython3",
   "version": "3.8.8"
  }
 },
 "nbformat": 4,
 "nbformat_minor": 5
}
