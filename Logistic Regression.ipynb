{
 "cells": [
  {
   "cell_type": "markdown",
   "metadata": {},
   "source": [
    "\n",
    "# Sample Model - Logistic Regression"
   ]
  },
  {
   "cell_type": "code",
   "execution_count": 1,
   "metadata": {},
   "outputs": [],
   "source": [
    "import pandas as pd\n",
    "import numpy as np"
   ]
  },
  {
   "cell_type": "code",
   "execution_count": 2,
   "metadata": {},
   "outputs": [],
   "source": [
    "niti = pd.read_csv('NITI_DATA.csv')"
   ]
  },
  {
   "cell_type": "code",
   "execution_count": 3,
   "metadata": {},
   "outputs": [
    {
     "data": {
      "text/html": [
       "<div>\n",
       "<style scoped>\n",
       "    .dataframe tbody tr th:only-of-type {\n",
       "        vertical-align: middle;\n",
       "    }\n",
       "\n",
       "    .dataframe tbody tr th {\n",
       "        vertical-align: top;\n",
       "    }\n",
       "\n",
       "    .dataframe thead th {\n",
       "        text-align: right;\n",
       "    }\n",
       "</style>\n",
       "<table border=\"1\" class=\"dataframe\">\n",
       "  <thead>\n",
       "    <tr style=\"text-align: right;\">\n",
       "      <th></th>\n",
       "      <th>Capital_Receipts</th>\n",
       "      <th>Aggregate_Receipts</th>\n",
       "      <th>Social_Sector_Expenditure</th>\n",
       "      <th>Interest_Payments</th>\n",
       "      <th>Own_Tax_Revenues</th>\n",
       "      <th>Fiscal_Deficits</th>\n",
       "      <th>Outstanding_Liabilities</th>\n",
       "      <th>Aggregate_Expenditure</th>\n",
       "      <th>Revenue_Receipts</th>\n",
       "      <th>Revenue_Expenditure</th>\n",
       "      <th>Revenue_Deficits</th>\n",
       "      <th>Capital_Expenditure</th>\n",
       "      <th>Nominal_GSDP_Series</th>\n",
       "    </tr>\n",
       "  </thead>\n",
       "  <tbody>\n",
       "    <tr>\n",
       "      <th>0</th>\n",
       "      <td>325.0</td>\n",
       "      <td>1590.0</td>\n",
       "      <td>532.0</td>\n",
       "      <td>81.7</td>\n",
       "      <td>582.0</td>\n",
       "      <td>222.1</td>\n",
       "      <td>81.50</td>\n",
       "      <td>1610.0</td>\n",
       "      <td>1265.0</td>\n",
       "      <td>1161.0</td>\n",
       "      <td>-104.0</td>\n",
       "      <td>449.0</td>\n",
       "      <td>8191.0</td>\n",
       "    </tr>\n",
       "    <tr>\n",
       "      <th>1</th>\n",
       "      <td>187.0</td>\n",
       "      <td>709.0</td>\n",
       "      <td>171.0</td>\n",
       "      <td>30.0</td>\n",
       "      <td>66.0</td>\n",
       "      <td>-27.4</td>\n",
       "      <td>43.41</td>\n",
       "      <td>758.0</td>\n",
       "      <td>522.0</td>\n",
       "      <td>357.0</td>\n",
       "      <td>-165.0</td>\n",
       "      <td>401.0</td>\n",
       "      <td>2516.0</td>\n",
       "    </tr>\n",
       "    <tr>\n",
       "      <th>2</th>\n",
       "      <td>702.0</td>\n",
       "      <td>1690.0</td>\n",
       "      <td>452.0</td>\n",
       "      <td>107.1</td>\n",
       "      <td>277.0</td>\n",
       "      <td>335.8</td>\n",
       "      <td>106.33</td>\n",
       "      <td>1791.0</td>\n",
       "      <td>988.0</td>\n",
       "      <td>929.0</td>\n",
       "      <td>-59.0</td>\n",
       "      <td>862.0</td>\n",
       "      <td>7353.0</td>\n",
       "    </tr>\n",
       "    <tr>\n",
       "      <th>3</th>\n",
       "      <td>345.0</td>\n",
       "      <td>1370.0</td>\n",
       "      <td>406.0</td>\n",
       "      <td>68.6</td>\n",
       "      <td>531.0</td>\n",
       "      <td>246.5</td>\n",
       "      <td>80.76</td>\n",
       "      <td>1442.0</td>\n",
       "      <td>1025.0</td>\n",
       "      <td>903.0</td>\n",
       "      <td>-122.0</td>\n",
       "      <td>539.0</td>\n",
       "      <td>7427.0</td>\n",
       "    </tr>\n",
       "    <tr>\n",
       "      <th>4</th>\n",
       "      <td>116.0</td>\n",
       "      <td>576.0</td>\n",
       "      <td>137.0</td>\n",
       "      <td>37.0</td>\n",
       "      <td>234.0</td>\n",
       "      <td>112.0</td>\n",
       "      <td>30.76</td>\n",
       "      <td>607.0</td>\n",
       "      <td>460.0</td>\n",
       "      <td>401.0</td>\n",
       "      <td>-59.0</td>\n",
       "      <td>207.0</td>\n",
       "      <td>3386.0</td>\n",
       "    </tr>\n",
       "  </tbody>\n",
       "</table>\n",
       "</div>"
      ],
      "text/plain": [
       "   Capital_Receipts  Aggregate_Receipts  Social_Sector_Expenditure  \\\n",
       "0             325.0              1590.0                      532.0   \n",
       "1             187.0               709.0                      171.0   \n",
       "2             702.0              1690.0                      452.0   \n",
       "3             345.0              1370.0                      406.0   \n",
       "4             116.0               576.0                      137.0   \n",
       "\n",
       "   Interest_Payments  Own_Tax_Revenues  Fiscal_Deficits  \\\n",
       "0               81.7             582.0            222.1   \n",
       "1               30.0              66.0            -27.4   \n",
       "2              107.1             277.0            335.8   \n",
       "3               68.6             531.0            246.5   \n",
       "4               37.0             234.0            112.0   \n",
       "\n",
       "   Outstanding_Liabilities  Aggregate_Expenditure  Revenue_Receipts  \\\n",
       "0                    81.50                 1610.0            1265.0   \n",
       "1                    43.41                  758.0             522.0   \n",
       "2                   106.33                 1791.0             988.0   \n",
       "3                    80.76                 1442.0            1025.0   \n",
       "4                    30.76                  607.0             460.0   \n",
       "\n",
       "   Revenue_Expenditure  Revenue_Deficits  Capital_Expenditure  \\\n",
       "0               1161.0            -104.0                449.0   \n",
       "1                357.0            -165.0                401.0   \n",
       "2                929.0             -59.0                862.0   \n",
       "3                903.0            -122.0                539.0   \n",
       "4                401.0             -59.0                207.0   \n",
       "\n",
       "   Nominal_GSDP_Series  \n",
       "0               8191.0  \n",
       "1               2516.0  \n",
       "2               7353.0  \n",
       "3               7427.0  \n",
       "4               3386.0  "
      ]
     },
     "execution_count": 3,
     "metadata": {},
     "output_type": "execute_result"
    }
   ],
   "source": [
    "niti.head()"
   ]
  },
  {
   "cell_type": "code",
   "execution_count": 4,
   "metadata": {},
   "outputs": [
    {
     "data": {
      "text/html": [
       "<div>\n",
       "<style scoped>\n",
       "    .dataframe tbody tr th:only-of-type {\n",
       "        vertical-align: middle;\n",
       "    }\n",
       "\n",
       "    .dataframe tbody tr th {\n",
       "        vertical-align: top;\n",
       "    }\n",
       "\n",
       "    .dataframe thead th {\n",
       "        text-align: right;\n",
       "    }\n",
       "</style>\n",
       "<table border=\"1\" class=\"dataframe\">\n",
       "  <thead>\n",
       "    <tr style=\"text-align: right;\">\n",
       "      <th></th>\n",
       "      <th>count</th>\n",
       "      <th>mean</th>\n",
       "      <th>std</th>\n",
       "      <th>min</th>\n",
       "      <th>25%</th>\n",
       "      <th>50%</th>\n",
       "      <th>75%</th>\n",
       "      <th>max</th>\n",
       "    </tr>\n",
       "  </thead>\n",
       "  <tbody>\n",
       "    <tr>\n",
       "      <th>Capital_Receipts</th>\n",
       "      <td>660.0</td>\n",
       "      <td>2428.893939</td>\n",
       "      <td>4110.573309</td>\n",
       "      <td>-5116.00</td>\n",
       "      <td>238.7500</td>\n",
       "      <td>811.50</td>\n",
       "      <td>2583.750</td>\n",
       "      <td>37639.0</td>\n",
       "    </tr>\n",
       "    <tr>\n",
       "      <th>Aggregate_Receipts</th>\n",
       "      <td>660.0</td>\n",
       "      <td>7791.672727</td>\n",
       "      <td>10883.932609</td>\n",
       "      <td>38.00</td>\n",
       "      <td>1143.5000</td>\n",
       "      <td>3191.50</td>\n",
       "      <td>9882.000</td>\n",
       "      <td>72074.0</td>\n",
       "    </tr>\n",
       "    <tr>\n",
       "      <th>Social_Sector_Expenditure</th>\n",
       "      <td>660.0</td>\n",
       "      <td>2623.565152</td>\n",
       "      <td>3470.775608</td>\n",
       "      <td>9.00</td>\n",
       "      <td>381.2500</td>\n",
       "      <td>1114.00</td>\n",
       "      <td>3512.000</td>\n",
       "      <td>24268.0</td>\n",
       "    </tr>\n",
       "    <tr>\n",
       "      <th>Interest_Payments</th>\n",
       "      <td>660.0</td>\n",
       "      <td>1060.228030</td>\n",
       "      <td>1757.027349</td>\n",
       "      <td>0.00</td>\n",
       "      <td>81.7000</td>\n",
       "      <td>290.00</td>\n",
       "      <td>1240.000</td>\n",
       "      <td>11870.0</td>\n",
       "    </tr>\n",
       "    <tr>\n",
       "      <th>Own_Tax_Revenues</th>\n",
       "      <td>660.0</td>\n",
       "      <td>2604.877273</td>\n",
       "      <td>4224.076558</td>\n",
       "      <td>0.00</td>\n",
       "      <td>90.0000</td>\n",
       "      <td>879.50</td>\n",
       "      <td>3174.750</td>\n",
       "      <td>33540.0</td>\n",
       "    </tr>\n",
       "    <tr>\n",
       "      <th>Fiscal_Deficits</th>\n",
       "      <td>660.0</td>\n",
       "      <td>1630.949848</td>\n",
       "      <td>2688.436374</td>\n",
       "      <td>-360.00</td>\n",
       "      <td>159.9500</td>\n",
       "      <td>517.00</td>\n",
       "      <td>1736.150</td>\n",
       "      <td>18620.0</td>\n",
       "    </tr>\n",
       "    <tr>\n",
       "      <th>Outstanding_Liabilities</th>\n",
       "      <td>660.0</td>\n",
       "      <td>417.522303</td>\n",
       "      <td>596.079415</td>\n",
       "      <td>1.42</td>\n",
       "      <td>49.6725</td>\n",
       "      <td>177.21</td>\n",
       "      <td>505.725</td>\n",
       "      <td>4067.4</td>\n",
       "    </tr>\n",
       "    <tr>\n",
       "      <th>Aggregate_Expenditure</th>\n",
       "      <td>660.0</td>\n",
       "      <td>7663.422727</td>\n",
       "      <td>10658.752422</td>\n",
       "      <td>43.00</td>\n",
       "      <td>1175.5000</td>\n",
       "      <td>3078.50</td>\n",
       "      <td>9737.250</td>\n",
       "      <td>72668.0</td>\n",
       "    </tr>\n",
       "    <tr>\n",
       "      <th>Revenue_Receipts</th>\n",
       "      <td>660.0</td>\n",
       "      <td>5362.778788</td>\n",
       "      <td>7044.667651</td>\n",
       "      <td>37.00</td>\n",
       "      <td>892.5000</td>\n",
       "      <td>2347.50</td>\n",
       "      <td>7210.750</td>\n",
       "      <td>48438.0</td>\n",
       "    </tr>\n",
       "    <tr>\n",
       "      <th>Revenue_Expenditure</th>\n",
       "      <td>660.0</td>\n",
       "      <td>6022.030303</td>\n",
       "      <td>8317.578141</td>\n",
       "      <td>30.00</td>\n",
       "      <td>864.0000</td>\n",
       "      <td>2275.50</td>\n",
       "      <td>7755.000</td>\n",
       "      <td>52280.0</td>\n",
       "    </tr>\n",
       "    <tr>\n",
       "      <th>Revenue_Deficits</th>\n",
       "      <td>660.0</td>\n",
       "      <td>659.255455</td>\n",
       "      <td>1824.575250</td>\n",
       "      <td>-4328.00</td>\n",
       "      <td>-62.3750</td>\n",
       "      <td>41.25</td>\n",
       "      <td>594.675</td>\n",
       "      <td>18583.0</td>\n",
       "    </tr>\n",
       "    <tr>\n",
       "      <th>Capital_Expenditure</th>\n",
       "      <td>660.0</td>\n",
       "      <td>1641.445455</td>\n",
       "      <td>2554.712652</td>\n",
       "      <td>13.00</td>\n",
       "      <td>289.5000</td>\n",
       "      <td>797.00</td>\n",
       "      <td>1851.750</td>\n",
       "      <td>21622.0</td>\n",
       "    </tr>\n",
       "    <tr>\n",
       "      <th>Nominal_GSDP_Series</th>\n",
       "      <td>660.0</td>\n",
       "      <td>37596.312121</td>\n",
       "      <td>57944.592770</td>\n",
       "      <td>52.00</td>\n",
       "      <td>2963.0000</td>\n",
       "      <td>14311.00</td>\n",
       "      <td>44635.000</td>\n",
       "      <td>486766.0</td>\n",
       "    </tr>\n",
       "  </tbody>\n",
       "</table>\n",
       "</div>"
      ],
      "text/plain": [
       "                           count          mean           std      min  \\\n",
       "Capital_Receipts           660.0   2428.893939   4110.573309 -5116.00   \n",
       "Aggregate_Receipts         660.0   7791.672727  10883.932609    38.00   \n",
       "Social_Sector_Expenditure  660.0   2623.565152   3470.775608     9.00   \n",
       "Interest_Payments          660.0   1060.228030   1757.027349     0.00   \n",
       "Own_Tax_Revenues           660.0   2604.877273   4224.076558     0.00   \n",
       "Fiscal_Deficits            660.0   1630.949848   2688.436374  -360.00   \n",
       "Outstanding_Liabilities    660.0    417.522303    596.079415     1.42   \n",
       "Aggregate_Expenditure      660.0   7663.422727  10658.752422    43.00   \n",
       "Revenue_Receipts           660.0   5362.778788   7044.667651    37.00   \n",
       "Revenue_Expenditure        660.0   6022.030303   8317.578141    30.00   \n",
       "Revenue_Deficits           660.0    659.255455   1824.575250 -4328.00   \n",
       "Capital_Expenditure        660.0   1641.445455   2554.712652    13.00   \n",
       "Nominal_GSDP_Series        660.0  37596.312121  57944.592770    52.00   \n",
       "\n",
       "                                 25%       50%        75%       max  \n",
       "Capital_Receipts            238.7500    811.50   2583.750   37639.0  \n",
       "Aggregate_Receipts         1143.5000   3191.50   9882.000   72074.0  \n",
       "Social_Sector_Expenditure   381.2500   1114.00   3512.000   24268.0  \n",
       "Interest_Payments            81.7000    290.00   1240.000   11870.0  \n",
       "Own_Tax_Revenues             90.0000    879.50   3174.750   33540.0  \n",
       "Fiscal_Deficits             159.9500    517.00   1736.150   18620.0  \n",
       "Outstanding_Liabilities      49.6725    177.21    505.725    4067.4  \n",
       "Aggregate_Expenditure      1175.5000   3078.50   9737.250   72668.0  \n",
       "Revenue_Receipts            892.5000   2347.50   7210.750   48438.0  \n",
       "Revenue_Expenditure         864.0000   2275.50   7755.000   52280.0  \n",
       "Revenue_Deficits            -62.3750     41.25    594.675   18583.0  \n",
       "Capital_Expenditure         289.5000    797.00   1851.750   21622.0  \n",
       "Nominal_GSDP_Series        2963.0000  14311.00  44635.000  486766.0  "
      ]
     },
     "execution_count": 4,
     "metadata": {},
     "output_type": "execute_result"
    }
   ],
   "source": [
    "niti.describe().T"
   ]
  },
  {
   "cell_type": "markdown",
   "metadata": {},
   "source": [
    "## Splitting the Data"
   ]
  },
  {
   "cell_type": "code",
   "execution_count": 5,
   "metadata": {},
   "outputs": [],
   "source": [
    "from sklearn.model_selection import train_test_split"
   ]
  },
  {
   "cell_type": "code",
   "execution_count": 6,
   "metadata": {},
   "outputs": [],
   "source": [
    "X = niti.iloc[:, 0:-1]"
   ]
  },
  {
   "cell_type": "code",
   "execution_count": 7,
   "metadata": {},
   "outputs": [
    {
     "data": {
      "text/plain": [
       "(660, 12)"
      ]
     },
     "execution_count": 7,
     "metadata": {},
     "output_type": "execute_result"
    }
   ],
   "source": [
    "X.shape"
   ]
  },
  {
   "cell_type": "code",
   "execution_count": 8,
   "metadata": {},
   "outputs": [],
   "source": [
    "Y = niti.iloc[:, -1]"
   ]
  },
  {
   "cell_type": "code",
   "execution_count": 9,
   "metadata": {},
   "outputs": [
    {
     "data": {
      "text/plain": [
       "(660,)"
      ]
     },
     "execution_count": 9,
     "metadata": {},
     "output_type": "execute_result"
    }
   ],
   "source": [
    "Y.shape"
   ]
  },
  {
   "cell_type": "code",
   "execution_count": 10,
   "metadata": {},
   "outputs": [],
   "source": [
    "X_train, X_test, Y_train, Y_test = train_test_split(X, Y)"
   ]
  },
  {
   "cell_type": "markdown",
   "metadata": {},
   "source": [
    "## Feature Scaling"
   ]
  },
  {
   "cell_type": "code",
   "execution_count": 11,
   "metadata": {},
   "outputs": [],
   "source": [
    "from sklearn.preprocessing import StandardScaler"
   ]
  },
  {
   "cell_type": "code",
   "execution_count": 12,
   "metadata": {},
   "outputs": [],
   "source": [
    "scaler = StandardScaler()"
   ]
  },
  {
   "cell_type": "code",
   "execution_count": 45,
   "metadata": {},
   "outputs": [],
   "source": [
    "X_train = scaler.fit_transform(X_train)\n",
    "X_test = scaler.transform(X_test)"
   ]
  },
  {
   "cell_type": "markdown",
   "metadata": {},
   "source": [
    "## Model Creation"
   ]
  },
  {
   "cell_type": "code",
   "execution_count": 46,
   "metadata": {},
   "outputs": [],
   "source": [
    "from sklearn.linear_model import LogisticRegression"
   ]
  },
  {
   "cell_type": "code",
   "execution_count": 61,
   "metadata": {},
   "outputs": [
    {
     "data": {
      "text/plain": [
       "LogisticRegression(C=1.0, class_weight=None, dual=False, fit_intercept=True,\n",
       "                   intercept_scaling=1, l1_ratio=None, max_iter=5000,\n",
       "                   multi_class='auto', n_jobs=None, penalty='l2',\n",
       "                   random_state=None, solver='lbfgs', tol=0.0001, verbose=0,\n",
       "                   warm_start=False)"
      ]
     },
     "execution_count": 61,
     "metadata": {},
     "output_type": "execute_result"
    }
   ],
   "source": [
    "logmodel=LogisticRegression(max_iter=5000)\n",
    "logmodel.fit(X_train,Y_train)"
   ]
  },
  {
   "cell_type": "code",
   "execution_count": 63,
   "metadata": {},
   "outputs": [],
   "source": [
    "from sklearn.metrics import mean_squared_error, r2_score"
   ]
  },
  {
   "cell_type": "code",
   "execution_count": 64,
   "metadata": {},
   "outputs": [],
   "source": [
    "Ya = Y_test\n",
    "Yp = logmodel.predict(X_test)\n",
    "mse = mean_squared_error(Ya, Yp)\n",
    "R2 = r2_score(Ya, Yp)"
   ]
  },
  {
   "cell_type": "code",
   "execution_count": 66,
   "metadata": {},
   "outputs": [
    {
     "data": {
      "text/plain": [
       "'MSE : 628534808.8242425, RMSE : 25070.596499170944, R2-Score : 0.8639490906929266'"
      ]
     },
     "execution_count": 66,
     "metadata": {},
     "output_type": "execute_result"
    }
   ],
   "source": [
    "'MSE : {}, RMSE : {}, R2-Score : {}'.format(mse, np.sqrt(mse), R2)"
   ]
  },
  {
   "cell_type": "code",
   "execution_count": null,
   "metadata": {},
   "outputs": [],
   "source": []
  }
 ],
 "metadata": {
  "kernelspec": {
   "display_name": "Python 3",
   "language": "python",
   "name": "python3"
  },
  "language_info": {
   "codemirror_mode": {
    "name": "ipython",
    "version": 3
   },
   "file_extension": ".py",
   "mimetype": "text/x-python",
   "name": "python",
   "nbconvert_exporter": "python",
   "pygments_lexer": "ipython3",
   "version": "3.7.6"
  }
 },
 "nbformat": 4,
 "nbformat_minor": 4
}
