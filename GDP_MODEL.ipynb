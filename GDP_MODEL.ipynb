{
  "nbformat": 4,
  "nbformat_minor": 0,
  "metadata": {
    "colab": {
      "name": "GDP_MODEL.ipynb",
      "provenance": [],
      "collapsed_sections": [],
      "authorship_tag": "ABX9TyPHU5608ixb2gTMnMOdu7oD",
      "include_colab_link": true
    },
    "kernelspec": {
      "name": "python3",
      "display_name": "Python 3"
    },
    "language_info": {
      "name": "python"
    }
  },
  "cells": [
    {
      "cell_type": "markdown",
      "metadata": {
        "id": "view-in-github",
        "colab_type": "text"
      },
      "source": [
        "<a href=\"https://colab.research.google.com/github/vishnuchandramc/ML_DL_project_final/blob/master/GDP_MODEL.ipynb\" target=\"_parent\"><img src=\"https://colab.research.google.com/assets/colab-badge.svg\" alt=\"Open In Colab\"/></a>"
      ]
    },
    {
      "cell_type": "code",
      "metadata": {
        "colab": {
          "base_uri": "https://localhost:8080/"
        },
        "id": "7TJAYIpMRihQ",
        "outputId": "b1208a46-d745-4599-dace-d6a3b7c81ee5"
      },
      "source": [
        "!git clone https://github.com/vishnuchandramc/ML_DL_project_final.git"
      ],
      "execution_count": 1,
      "outputs": [
        {
          "output_type": "stream",
          "text": [
            "Cloning into 'ML_DL_project_final'...\n",
            "remote: Enumerating objects: 166, done.\u001b[K\n",
            "remote: Counting objects: 100% (57/57), done.\u001b[K\n",
            "remote: Compressing objects: 100% (55/55), done.\u001b[K\n",
            "remote: Total 166 (delta 27), reused 5 (delta 2), pack-reused 109\u001b[K\n",
            "Receiving objects: 100% (166/166), 4.00 MiB | 23.84 MiB/s, done.\n",
            "Resolving deltas: 100% (49/49), done.\n"
          ],
          "name": "stdout"
        }
      ]
    },
    {
      "cell_type": "code",
      "metadata": {
        "colab": {
          "base_uri": "https://localhost:8080/"
        },
        "id": "UVsL7OSuRqgV",
        "outputId": "bc17f5e9-8e46-4776-d69b-5a89d87360f3"
      },
      "source": [
        "!ls"
      ],
      "execution_count": 2,
      "outputs": [
        {
          "output_type": "stream",
          "text": [
            "ML_DL_project_final  sample_data\n"
          ],
          "name": "stdout"
        }
      ]
    },
    {
      "cell_type": "code",
      "metadata": {
        "id": "q8KUMKJ_R_0N"
      },
      "source": [
        "import pandas as pd\n",
        "import numpy as np"
      ],
      "execution_count": 3,
      "outputs": []
    },
    {
      "cell_type": "code",
      "metadata": {
        "id": "-2b1eyAvSK7N"
      },
      "source": [
        "data = pd.read_csv('ML_DL_project_final/NITI_DATA.csv')"
      ],
      "execution_count": 10,
      "outputs": []
    },
    {
      "cell_type": "code",
      "metadata": {
        "colab": {
          "base_uri": "https://localhost:8080/",
          "height": 224
        },
        "id": "dJ3BaRGoSPtF",
        "outputId": "9e54fdb3-1dab-4399-fd8f-b7835896d627"
      },
      "source": [
        "data.head()"
      ],
      "execution_count": 11,
      "outputs": [
        {
          "output_type": "execute_result",
          "data": {
            "text/html": [
              "<div>\n",
              "<style scoped>\n",
              "    .dataframe tbody tr th:only-of-type {\n",
              "        vertical-align: middle;\n",
              "    }\n",
              "\n",
              "    .dataframe tbody tr th {\n",
              "        vertical-align: top;\n",
              "    }\n",
              "\n",
              "    .dataframe thead th {\n",
              "        text-align: right;\n",
              "    }\n",
              "</style>\n",
              "<table border=\"1\" class=\"dataframe\">\n",
              "  <thead>\n",
              "    <tr style=\"text-align: right;\">\n",
              "      <th></th>\n",
              "      <th>Capital_Receipts</th>\n",
              "      <th>Aggregate_Receipts</th>\n",
              "      <th>Social_Sector_Expenditure</th>\n",
              "      <th>Interest_Payments</th>\n",
              "      <th>Own_Tax_Revenues</th>\n",
              "      <th>Fiscal_Deficits</th>\n",
              "      <th>Outstanding_Liabilities</th>\n",
              "      <th>Aggregate_Expenditure</th>\n",
              "      <th>Revenue_Receipts</th>\n",
              "      <th>Revenue_Expenditure</th>\n",
              "      <th>Revenue_Deficits</th>\n",
              "      <th>Capital_Expenditure</th>\n",
              "      <th>Nominal_GSDP_Series</th>\n",
              "    </tr>\n",
              "  </thead>\n",
              "  <tbody>\n",
              "    <tr>\n",
              "      <th>0</th>\n",
              "      <td>325.0</td>\n",
              "      <td>1590.0</td>\n",
              "      <td>532.0</td>\n",
              "      <td>81.7</td>\n",
              "      <td>582.0</td>\n",
              "      <td>222.1</td>\n",
              "      <td>81.50</td>\n",
              "      <td>1610.0</td>\n",
              "      <td>1265.0</td>\n",
              "      <td>1161.0</td>\n",
              "      <td>-104.0</td>\n",
              "      <td>449.0</td>\n",
              "      <td>8191.0</td>\n",
              "    </tr>\n",
              "    <tr>\n",
              "      <th>1</th>\n",
              "      <td>187.0</td>\n",
              "      <td>709.0</td>\n",
              "      <td>171.0</td>\n",
              "      <td>30.0</td>\n",
              "      <td>66.0</td>\n",
              "      <td>-27.4</td>\n",
              "      <td>43.41</td>\n",
              "      <td>758.0</td>\n",
              "      <td>522.0</td>\n",
              "      <td>357.0</td>\n",
              "      <td>-165.0</td>\n",
              "      <td>401.0</td>\n",
              "      <td>2516.0</td>\n",
              "    </tr>\n",
              "    <tr>\n",
              "      <th>2</th>\n",
              "      <td>702.0</td>\n",
              "      <td>1690.0</td>\n",
              "      <td>452.0</td>\n",
              "      <td>107.1</td>\n",
              "      <td>277.0</td>\n",
              "      <td>335.8</td>\n",
              "      <td>106.33</td>\n",
              "      <td>1791.0</td>\n",
              "      <td>988.0</td>\n",
              "      <td>929.0</td>\n",
              "      <td>-59.0</td>\n",
              "      <td>862.0</td>\n",
              "      <td>7353.0</td>\n",
              "    </tr>\n",
              "    <tr>\n",
              "      <th>3</th>\n",
              "      <td>345.0</td>\n",
              "      <td>1370.0</td>\n",
              "      <td>406.0</td>\n",
              "      <td>68.6</td>\n",
              "      <td>531.0</td>\n",
              "      <td>246.5</td>\n",
              "      <td>80.76</td>\n",
              "      <td>1442.0</td>\n",
              "      <td>1025.0</td>\n",
              "      <td>903.0</td>\n",
              "      <td>-122.0</td>\n",
              "      <td>539.0</td>\n",
              "      <td>7427.0</td>\n",
              "    </tr>\n",
              "    <tr>\n",
              "      <th>4</th>\n",
              "      <td>116.0</td>\n",
              "      <td>576.0</td>\n",
              "      <td>137.0</td>\n",
              "      <td>37.0</td>\n",
              "      <td>234.0</td>\n",
              "      <td>112.0</td>\n",
              "      <td>30.76</td>\n",
              "      <td>607.0</td>\n",
              "      <td>460.0</td>\n",
              "      <td>401.0</td>\n",
              "      <td>-59.0</td>\n",
              "      <td>207.0</td>\n",
              "      <td>3386.0</td>\n",
              "    </tr>\n",
              "  </tbody>\n",
              "</table>\n",
              "</div>"
            ],
            "text/plain": [
              "   Capital_Receipts  ...  Nominal_GSDP_Series\n",
              "0             325.0  ...               8191.0\n",
              "1             187.0  ...               2516.0\n",
              "2             702.0  ...               7353.0\n",
              "3             345.0  ...               7427.0\n",
              "4             116.0  ...               3386.0\n",
              "\n",
              "[5 rows x 13 columns]"
            ]
          },
          "metadata": {
            "tags": []
          },
          "execution_count": 11
        }
      ]
    },
    {
      "cell_type": "code",
      "metadata": {
        "colab": {
          "base_uri": "https://localhost:8080/",
          "height": 452
        },
        "id": "0Ydlw9TnSV1x",
        "outputId": "402f9dff-7466-4675-ae0c-6c399fd0a682"
      },
      "source": [
        "niti.describe().T"
      ],
      "execution_count": 12,
      "outputs": [
        {
          "output_type": "execute_result",
          "data": {
            "text/html": [
              "<div>\n",
              "<style scoped>\n",
              "    .dataframe tbody tr th:only-of-type {\n",
              "        vertical-align: middle;\n",
              "    }\n",
              "\n",
              "    .dataframe tbody tr th {\n",
              "        vertical-align: top;\n",
              "    }\n",
              "\n",
              "    .dataframe thead th {\n",
              "        text-align: right;\n",
              "    }\n",
              "</style>\n",
              "<table border=\"1\" class=\"dataframe\">\n",
              "  <thead>\n",
              "    <tr style=\"text-align: right;\">\n",
              "      <th></th>\n",
              "      <th>count</th>\n",
              "      <th>mean</th>\n",
              "      <th>std</th>\n",
              "      <th>min</th>\n",
              "      <th>25%</th>\n",
              "      <th>50%</th>\n",
              "      <th>75%</th>\n",
              "      <th>max</th>\n",
              "    </tr>\n",
              "  </thead>\n",
              "  <tbody>\n",
              "    <tr>\n",
              "      <th>Capital_Receipts</th>\n",
              "      <td>660.0</td>\n",
              "      <td>2428.893939</td>\n",
              "      <td>4110.573309</td>\n",
              "      <td>-5116.00</td>\n",
              "      <td>238.7500</td>\n",
              "      <td>811.50</td>\n",
              "      <td>2583.750</td>\n",
              "      <td>37639.0</td>\n",
              "    </tr>\n",
              "    <tr>\n",
              "      <th>Aggregate_Receipts</th>\n",
              "      <td>660.0</td>\n",
              "      <td>7791.672727</td>\n",
              "      <td>10883.932609</td>\n",
              "      <td>38.00</td>\n",
              "      <td>1143.5000</td>\n",
              "      <td>3191.50</td>\n",
              "      <td>9882.000</td>\n",
              "      <td>72074.0</td>\n",
              "    </tr>\n",
              "    <tr>\n",
              "      <th>Social_Sector_Expenditure</th>\n",
              "      <td>660.0</td>\n",
              "      <td>2623.565152</td>\n",
              "      <td>3470.775608</td>\n",
              "      <td>9.00</td>\n",
              "      <td>381.2500</td>\n",
              "      <td>1114.00</td>\n",
              "      <td>3512.000</td>\n",
              "      <td>24268.0</td>\n",
              "    </tr>\n",
              "    <tr>\n",
              "      <th>Interest_Payments</th>\n",
              "      <td>660.0</td>\n",
              "      <td>1060.228030</td>\n",
              "      <td>1757.027349</td>\n",
              "      <td>0.00</td>\n",
              "      <td>81.7000</td>\n",
              "      <td>290.00</td>\n",
              "      <td>1240.000</td>\n",
              "      <td>11870.0</td>\n",
              "    </tr>\n",
              "    <tr>\n",
              "      <th>Own_Tax_Revenues</th>\n",
              "      <td>660.0</td>\n",
              "      <td>2604.877273</td>\n",
              "      <td>4224.076558</td>\n",
              "      <td>0.00</td>\n",
              "      <td>90.0000</td>\n",
              "      <td>879.50</td>\n",
              "      <td>3174.750</td>\n",
              "      <td>33540.0</td>\n",
              "    </tr>\n",
              "    <tr>\n",
              "      <th>Fiscal_Deficits</th>\n",
              "      <td>660.0</td>\n",
              "      <td>1630.949848</td>\n",
              "      <td>2688.436374</td>\n",
              "      <td>-360.00</td>\n",
              "      <td>159.9500</td>\n",
              "      <td>517.00</td>\n",
              "      <td>1736.150</td>\n",
              "      <td>18620.0</td>\n",
              "    </tr>\n",
              "    <tr>\n",
              "      <th>Outstanding_Liabilities</th>\n",
              "      <td>660.0</td>\n",
              "      <td>417.522303</td>\n",
              "      <td>596.079415</td>\n",
              "      <td>1.42</td>\n",
              "      <td>49.6725</td>\n",
              "      <td>177.21</td>\n",
              "      <td>505.725</td>\n",
              "      <td>4067.4</td>\n",
              "    </tr>\n",
              "    <tr>\n",
              "      <th>Aggregate_Expenditure</th>\n",
              "      <td>660.0</td>\n",
              "      <td>7663.422727</td>\n",
              "      <td>10658.752422</td>\n",
              "      <td>43.00</td>\n",
              "      <td>1175.5000</td>\n",
              "      <td>3078.50</td>\n",
              "      <td>9737.250</td>\n",
              "      <td>72668.0</td>\n",
              "    </tr>\n",
              "    <tr>\n",
              "      <th>Revenue_Receipts</th>\n",
              "      <td>660.0</td>\n",
              "      <td>5362.778788</td>\n",
              "      <td>7044.667651</td>\n",
              "      <td>37.00</td>\n",
              "      <td>892.5000</td>\n",
              "      <td>2347.50</td>\n",
              "      <td>7210.750</td>\n",
              "      <td>48438.0</td>\n",
              "    </tr>\n",
              "    <tr>\n",
              "      <th>Revenue_Expenditure</th>\n",
              "      <td>660.0</td>\n",
              "      <td>6022.030303</td>\n",
              "      <td>8317.578141</td>\n",
              "      <td>30.00</td>\n",
              "      <td>864.0000</td>\n",
              "      <td>2275.50</td>\n",
              "      <td>7755.000</td>\n",
              "      <td>52280.0</td>\n",
              "    </tr>\n",
              "    <tr>\n",
              "      <th>Revenue_Deficits</th>\n",
              "      <td>660.0</td>\n",
              "      <td>659.255455</td>\n",
              "      <td>1824.575250</td>\n",
              "      <td>-4328.00</td>\n",
              "      <td>-62.3750</td>\n",
              "      <td>41.25</td>\n",
              "      <td>594.675</td>\n",
              "      <td>18583.0</td>\n",
              "    </tr>\n",
              "    <tr>\n",
              "      <th>Capital_Expenditure</th>\n",
              "      <td>660.0</td>\n",
              "      <td>1641.445455</td>\n",
              "      <td>2554.712652</td>\n",
              "      <td>13.00</td>\n",
              "      <td>289.5000</td>\n",
              "      <td>797.00</td>\n",
              "      <td>1851.750</td>\n",
              "      <td>21622.0</td>\n",
              "    </tr>\n",
              "    <tr>\n",
              "      <th>Nominal_GSDP_Series</th>\n",
              "      <td>660.0</td>\n",
              "      <td>37596.312121</td>\n",
              "      <td>57944.592770</td>\n",
              "      <td>52.00</td>\n",
              "      <td>2963.0000</td>\n",
              "      <td>14311.00</td>\n",
              "      <td>44635.000</td>\n",
              "      <td>486766.0</td>\n",
              "    </tr>\n",
              "  </tbody>\n",
              "</table>\n",
              "</div>"
            ],
            "text/plain": [
              "                           count          mean  ...        75%       max\n",
              "Capital_Receipts           660.0   2428.893939  ...   2583.750   37639.0\n",
              "Aggregate_Receipts         660.0   7791.672727  ...   9882.000   72074.0\n",
              "Social_Sector_Expenditure  660.0   2623.565152  ...   3512.000   24268.0\n",
              "Interest_Payments          660.0   1060.228030  ...   1240.000   11870.0\n",
              "Own_Tax_Revenues           660.0   2604.877273  ...   3174.750   33540.0\n",
              "Fiscal_Deficits            660.0   1630.949848  ...   1736.150   18620.0\n",
              "Outstanding_Liabilities    660.0    417.522303  ...    505.725    4067.4\n",
              "Aggregate_Expenditure      660.0   7663.422727  ...   9737.250   72668.0\n",
              "Revenue_Receipts           660.0   5362.778788  ...   7210.750   48438.0\n",
              "Revenue_Expenditure        660.0   6022.030303  ...   7755.000   52280.0\n",
              "Revenue_Deficits           660.0    659.255455  ...    594.675   18583.0\n",
              "Capital_Expenditure        660.0   1641.445455  ...   1851.750   21622.0\n",
              "Nominal_GSDP_Series        660.0  37596.312121  ...  44635.000  486766.0\n",
              "\n",
              "[13 rows x 8 columns]"
            ]
          },
          "metadata": {
            "tags": []
          },
          "execution_count": 12
        }
      ]
    },
    {
      "cell_type": "code",
      "metadata": {
        "colab": {
          "base_uri": "https://localhost:8080/",
          "height": 472
        },
        "id": "p3WxKhN5SZP8",
        "outputId": "d520a8a2-b320-461f-f6ca-af62db4cc98d"
      },
      "source": [
        "niti.corr()"
      ],
      "execution_count": 13,
      "outputs": [
        {
          "output_type": "execute_result",
          "data": {
            "text/html": [
              "<div>\n",
              "<style scoped>\n",
              "    .dataframe tbody tr th:only-of-type {\n",
              "        vertical-align: middle;\n",
              "    }\n",
              "\n",
              "    .dataframe tbody tr th {\n",
              "        vertical-align: top;\n",
              "    }\n",
              "\n",
              "    .dataframe thead th {\n",
              "        text-align: right;\n",
              "    }\n",
              "</style>\n",
              "<table border=\"1\" class=\"dataframe\">\n",
              "  <thead>\n",
              "    <tr style=\"text-align: right;\">\n",
              "      <th></th>\n",
              "      <th>Capital_Receipts</th>\n",
              "      <th>Aggregate_Receipts</th>\n",
              "      <th>Social_Sector_Expenditure</th>\n",
              "      <th>Interest_Payments</th>\n",
              "      <th>Own_Tax_Revenues</th>\n",
              "      <th>Fiscal_Deficits</th>\n",
              "      <th>Outstanding_Liabilities</th>\n",
              "      <th>Aggregate_Expenditure</th>\n",
              "      <th>Revenue_Receipts</th>\n",
              "      <th>Revenue_Expenditure</th>\n",
              "      <th>Revenue_Deficits</th>\n",
              "      <th>Capital_Expenditure</th>\n",
              "      <th>Nominal_GSDP_Series</th>\n",
              "    </tr>\n",
              "  </thead>\n",
              "  <tbody>\n",
              "    <tr>\n",
              "      <th>Capital_Receipts</th>\n",
              "      <td>1.000000</td>\n",
              "      <td>0.958102</td>\n",
              "      <td>0.901525</td>\n",
              "      <td>0.945287</td>\n",
              "      <td>0.864848</td>\n",
              "      <td>0.939052</td>\n",
              "      <td>0.914235</td>\n",
              "      <td>0.952641</td>\n",
              "      <td>0.896756</td>\n",
              "      <td>0.931491</td>\n",
              "      <td>0.783977</td>\n",
              "      <td>0.941874</td>\n",
              "      <td>0.904869</td>\n",
              "    </tr>\n",
              "    <tr>\n",
              "      <th>Aggregate_Receipts</th>\n",
              "      <td>0.958102</td>\n",
              "      <td>1.000000</td>\n",
              "      <td>0.976070</td>\n",
              "      <td>0.955550</td>\n",
              "      <td>0.946278</td>\n",
              "      <td>0.922980</td>\n",
              "      <td>0.956505</td>\n",
              "      <td>0.996875</td>\n",
              "      <td>0.985935</td>\n",
              "      <td>0.989615</td>\n",
              "      <td>0.704623</td>\n",
              "      <td>0.937185</td>\n",
              "      <td>0.956340</td>\n",
              "    </tr>\n",
              "    <tr>\n",
              "      <th>Social_Sector_Expenditure</th>\n",
              "      <td>0.901525</td>\n",
              "      <td>0.976070</td>\n",
              "      <td>1.000000</td>\n",
              "      <td>0.923355</td>\n",
              "      <td>0.945140</td>\n",
              "      <td>0.916260</td>\n",
              "      <td>0.948411</td>\n",
              "      <td>0.978583</td>\n",
              "      <td>0.981976</td>\n",
              "      <td>0.983376</td>\n",
              "      <td>0.691462</td>\n",
              "      <td>0.881187</td>\n",
              "      <td>0.951463</td>\n",
              "    </tr>\n",
              "    <tr>\n",
              "      <th>Interest_Payments</th>\n",
              "      <td>0.945287</td>\n",
              "      <td>0.955550</td>\n",
              "      <td>0.923355</td>\n",
              "      <td>1.000000</td>\n",
              "      <td>0.856082</td>\n",
              "      <td>0.935745</td>\n",
              "      <td>0.953921</td>\n",
              "      <td>0.958109</td>\n",
              "      <td>0.924738</td>\n",
              "      <td>0.955489</td>\n",
              "      <td>0.785332</td>\n",
              "      <td>0.886556</td>\n",
              "      <td>0.909927</td>\n",
              "    </tr>\n",
              "    <tr>\n",
              "      <th>Own_Tax_Revenues</th>\n",
              "      <td>0.864848</td>\n",
              "      <td>0.946278</td>\n",
              "      <td>0.945140</td>\n",
              "      <td>0.856082</td>\n",
              "      <td>1.000000</td>\n",
              "      <td>0.847567</td>\n",
              "      <td>0.903109</td>\n",
              "      <td>0.942623</td>\n",
              "      <td>0.957349</td>\n",
              "      <td>0.942143</td>\n",
              "      <td>0.598584</td>\n",
              "      <td>0.865397</td>\n",
              "      <td>0.957997</td>\n",
              "    </tr>\n",
              "    <tr>\n",
              "      <th>Fiscal_Deficits</th>\n",
              "      <td>0.939052</td>\n",
              "      <td>0.922980</td>\n",
              "      <td>0.916260</td>\n",
              "      <td>0.935745</td>\n",
              "      <td>0.847567</td>\n",
              "      <td>1.000000</td>\n",
              "      <td>0.927833</td>\n",
              "      <td>0.936765</td>\n",
              "      <td>0.878056</td>\n",
              "      <td>0.935389</td>\n",
              "      <td>0.873941</td>\n",
              "      <td>0.862949</td>\n",
              "      <td>0.904112</td>\n",
              "    </tr>\n",
              "    <tr>\n",
              "      <th>Outstanding_Liabilities</th>\n",
              "      <td>0.914235</td>\n",
              "      <td>0.956505</td>\n",
              "      <td>0.948411</td>\n",
              "      <td>0.953921</td>\n",
              "      <td>0.903109</td>\n",
              "      <td>0.927833</td>\n",
              "      <td>1.000000</td>\n",
              "      <td>0.957928</td>\n",
              "      <td>0.944332</td>\n",
              "      <td>0.964662</td>\n",
              "      <td>0.751491</td>\n",
              "      <td>0.855936</td>\n",
              "      <td>0.954329</td>\n",
              "    </tr>\n",
              "    <tr>\n",
              "      <th>Aggregate_Expenditure</th>\n",
              "      <td>0.952641</td>\n",
              "      <td>0.996875</td>\n",
              "      <td>0.978583</td>\n",
              "      <td>0.958109</td>\n",
              "      <td>0.942623</td>\n",
              "      <td>0.936765</td>\n",
              "      <td>0.957928</td>\n",
              "      <td>1.000000</td>\n",
              "      <td>0.984293</td>\n",
              "      <td>0.994104</td>\n",
              "      <td>0.731423</td>\n",
              "      <td>0.935613</td>\n",
              "      <td>0.953906</td>\n",
              "    </tr>\n",
              "    <tr>\n",
              "      <th>Revenue_Receipts</th>\n",
              "      <td>0.896756</td>\n",
              "      <td>0.985935</td>\n",
              "      <td>0.981976</td>\n",
              "      <td>0.924738</td>\n",
              "      <td>0.957349</td>\n",
              "      <td>0.878056</td>\n",
              "      <td>0.944332</td>\n",
              "      <td>0.984293</td>\n",
              "      <td>1.000000</td>\n",
              "      <td>0.985418</td>\n",
              "      <td>0.631183</td>\n",
              "      <td>0.898356</td>\n",
              "      <td>0.949542</td>\n",
              "    </tr>\n",
              "    <tr>\n",
              "      <th>Revenue_Expenditure</th>\n",
              "      <td>0.931491</td>\n",
              "      <td>0.989615</td>\n",
              "      <td>0.983376</td>\n",
              "      <td>0.955489</td>\n",
              "      <td>0.942143</td>\n",
              "      <td>0.935389</td>\n",
              "      <td>0.964662</td>\n",
              "      <td>0.994104</td>\n",
              "      <td>0.985418</td>\n",
              "      <td>1.000000</td>\n",
              "      <td>0.753954</td>\n",
              "      <td>0.891816</td>\n",
              "      <td>0.953390</td>\n",
              "    </tr>\n",
              "    <tr>\n",
              "      <th>Revenue_Deficits</th>\n",
              "      <td>0.783977</td>\n",
              "      <td>0.704623</td>\n",
              "      <td>0.691462</td>\n",
              "      <td>0.785332</td>\n",
              "      <td>0.598584</td>\n",
              "      <td>0.873941</td>\n",
              "      <td>0.751491</td>\n",
              "      <td>0.731423</td>\n",
              "      <td>0.631183</td>\n",
              "      <td>0.753954</td>\n",
              "      <td>1.000000</td>\n",
              "      <td>0.596941</td>\n",
              "      <td>0.679997</td>\n",
              "    </tr>\n",
              "    <tr>\n",
              "      <th>Capital_Expenditure</th>\n",
              "      <td>0.941874</td>\n",
              "      <td>0.937185</td>\n",
              "      <td>0.881187</td>\n",
              "      <td>0.886556</td>\n",
              "      <td>0.865397</td>\n",
              "      <td>0.862949</td>\n",
              "      <td>0.855936</td>\n",
              "      <td>0.935613</td>\n",
              "      <td>0.898356</td>\n",
              "      <td>0.891816</td>\n",
              "      <td>0.596941</td>\n",
              "      <td>1.000000</td>\n",
              "      <td>0.875852</td>\n",
              "    </tr>\n",
              "    <tr>\n",
              "      <th>Nominal_GSDP_Series</th>\n",
              "      <td>0.904869</td>\n",
              "      <td>0.956340</td>\n",
              "      <td>0.951463</td>\n",
              "      <td>0.909927</td>\n",
              "      <td>0.957997</td>\n",
              "      <td>0.904112</td>\n",
              "      <td>0.954329</td>\n",
              "      <td>0.953906</td>\n",
              "      <td>0.949542</td>\n",
              "      <td>0.953390</td>\n",
              "      <td>0.679997</td>\n",
              "      <td>0.875852</td>\n",
              "      <td>1.000000</td>\n",
              "    </tr>\n",
              "  </tbody>\n",
              "</table>\n",
              "</div>"
            ],
            "text/plain": [
              "                           Capital_Receipts  ...  Nominal_GSDP_Series\n",
              "Capital_Receipts                   1.000000  ...             0.904869\n",
              "Aggregate_Receipts                 0.958102  ...             0.956340\n",
              "Social_Sector_Expenditure          0.901525  ...             0.951463\n",
              "Interest_Payments                  0.945287  ...             0.909927\n",
              "Own_Tax_Revenues                   0.864848  ...             0.957997\n",
              "Fiscal_Deficits                    0.939052  ...             0.904112\n",
              "Outstanding_Liabilities            0.914235  ...             0.954329\n",
              "Aggregate_Expenditure              0.952641  ...             0.953906\n",
              "Revenue_Receipts                   0.896756  ...             0.949542\n",
              "Revenue_Expenditure                0.931491  ...             0.953390\n",
              "Revenue_Deficits                   0.783977  ...             0.679997\n",
              "Capital_Expenditure                0.941874  ...             0.875852\n",
              "Nominal_GSDP_Series                0.904869  ...             1.000000\n",
              "\n",
              "[13 rows x 13 columns]"
            ]
          },
          "metadata": {
            "tags": []
          },
          "execution_count": 13
        }
      ]
    },
    {
      "cell_type": "code",
      "metadata": {
        "id": "mW_2N0s1SnaN"
      },
      "source": [
        "from sklearn.model_selection import train_test_split"
      ],
      "execution_count": 14,
      "outputs": []
    },
    {
      "cell_type": "code",
      "metadata": {
        "id": "mdxGyJKWSrAq"
      },
      "source": [
        "X = niti.iloc[:, 0:-1]"
      ],
      "execution_count": 15,
      "outputs": []
    },
    {
      "cell_type": "code",
      "metadata": {
        "colab": {
          "base_uri": "https://localhost:8080/"
        },
        "id": "xBOzVabIStIc",
        "outputId": "eae1061e-7c4c-454c-f366-acf88d3c9115"
      },
      "source": [
        "X.shape"
      ],
      "execution_count": 16,
      "outputs": [
        {
          "output_type": "execute_result",
          "data": {
            "text/plain": [
              "(660, 12)"
            ]
          },
          "metadata": {
            "tags": []
          },
          "execution_count": 16
        }
      ]
    },
    {
      "cell_type": "code",
      "metadata": {
        "colab": {
          "base_uri": "https://localhost:8080/",
          "height": 224
        },
        "id": "UPGDGzbTSvAY",
        "outputId": "9f8ccd0a-2d7b-491a-95ab-786295bc3965"
      },
      "source": [
        "X.head()"
      ],
      "execution_count": 17,
      "outputs": [
        {
          "output_type": "execute_result",
          "data": {
            "text/html": [
              "<div>\n",
              "<style scoped>\n",
              "    .dataframe tbody tr th:only-of-type {\n",
              "        vertical-align: middle;\n",
              "    }\n",
              "\n",
              "    .dataframe tbody tr th {\n",
              "        vertical-align: top;\n",
              "    }\n",
              "\n",
              "    .dataframe thead th {\n",
              "        text-align: right;\n",
              "    }\n",
              "</style>\n",
              "<table border=\"1\" class=\"dataframe\">\n",
              "  <thead>\n",
              "    <tr style=\"text-align: right;\">\n",
              "      <th></th>\n",
              "      <th>Capital_Receipts</th>\n",
              "      <th>Aggregate_Receipts</th>\n",
              "      <th>Social_Sector_Expenditure</th>\n",
              "      <th>Interest_Payments</th>\n",
              "      <th>Own_Tax_Revenues</th>\n",
              "      <th>Fiscal_Deficits</th>\n",
              "      <th>Outstanding_Liabilities</th>\n",
              "      <th>Aggregate_Expenditure</th>\n",
              "      <th>Revenue_Receipts</th>\n",
              "      <th>Revenue_Expenditure</th>\n",
              "      <th>Revenue_Deficits</th>\n",
              "      <th>Capital_Expenditure</th>\n",
              "    </tr>\n",
              "  </thead>\n",
              "  <tbody>\n",
              "    <tr>\n",
              "      <th>0</th>\n",
              "      <td>325.0</td>\n",
              "      <td>1590.0</td>\n",
              "      <td>532.0</td>\n",
              "      <td>81.7</td>\n",
              "      <td>582.0</td>\n",
              "      <td>222.1</td>\n",
              "      <td>81.50</td>\n",
              "      <td>1610.0</td>\n",
              "      <td>1265.0</td>\n",
              "      <td>1161.0</td>\n",
              "      <td>-104.0</td>\n",
              "      <td>449.0</td>\n",
              "    </tr>\n",
              "    <tr>\n",
              "      <th>1</th>\n",
              "      <td>187.0</td>\n",
              "      <td>709.0</td>\n",
              "      <td>171.0</td>\n",
              "      <td>30.0</td>\n",
              "      <td>66.0</td>\n",
              "      <td>-27.4</td>\n",
              "      <td>43.41</td>\n",
              "      <td>758.0</td>\n",
              "      <td>522.0</td>\n",
              "      <td>357.0</td>\n",
              "      <td>-165.0</td>\n",
              "      <td>401.0</td>\n",
              "    </tr>\n",
              "    <tr>\n",
              "      <th>2</th>\n",
              "      <td>702.0</td>\n",
              "      <td>1690.0</td>\n",
              "      <td>452.0</td>\n",
              "      <td>107.1</td>\n",
              "      <td>277.0</td>\n",
              "      <td>335.8</td>\n",
              "      <td>106.33</td>\n",
              "      <td>1791.0</td>\n",
              "      <td>988.0</td>\n",
              "      <td>929.0</td>\n",
              "      <td>-59.0</td>\n",
              "      <td>862.0</td>\n",
              "    </tr>\n",
              "    <tr>\n",
              "      <th>3</th>\n",
              "      <td>345.0</td>\n",
              "      <td>1370.0</td>\n",
              "      <td>406.0</td>\n",
              "      <td>68.6</td>\n",
              "      <td>531.0</td>\n",
              "      <td>246.5</td>\n",
              "      <td>80.76</td>\n",
              "      <td>1442.0</td>\n",
              "      <td>1025.0</td>\n",
              "      <td>903.0</td>\n",
              "      <td>-122.0</td>\n",
              "      <td>539.0</td>\n",
              "    </tr>\n",
              "    <tr>\n",
              "      <th>4</th>\n",
              "      <td>116.0</td>\n",
              "      <td>576.0</td>\n",
              "      <td>137.0</td>\n",
              "      <td>37.0</td>\n",
              "      <td>234.0</td>\n",
              "      <td>112.0</td>\n",
              "      <td>30.76</td>\n",
              "      <td>607.0</td>\n",
              "      <td>460.0</td>\n",
              "      <td>401.0</td>\n",
              "      <td>-59.0</td>\n",
              "      <td>207.0</td>\n",
              "    </tr>\n",
              "  </tbody>\n",
              "</table>\n",
              "</div>"
            ],
            "text/plain": [
              "   Capital_Receipts  Aggregate_Receipts  ...  Revenue_Deficits  Capital_Expenditure\n",
              "0             325.0              1590.0  ...            -104.0                449.0\n",
              "1             187.0               709.0  ...            -165.0                401.0\n",
              "2             702.0              1690.0  ...             -59.0                862.0\n",
              "3             345.0              1370.0  ...            -122.0                539.0\n",
              "4             116.0               576.0  ...             -59.0                207.0\n",
              "\n",
              "[5 rows x 12 columns]"
            ]
          },
          "metadata": {
            "tags": []
          },
          "execution_count": 17
        }
      ]
    },
    {
      "cell_type": "code",
      "metadata": {
        "id": "N4h3OionSxQs"
      },
      "source": [
        "Y = niti.iloc[:, -1]"
      ],
      "execution_count": 18,
      "outputs": []
    },
    {
      "cell_type": "code",
      "metadata": {
        "colab": {
          "base_uri": "https://localhost:8080/"
        },
        "id": "MPN4_blFS1Jy",
        "outputId": "2c1db669-9343-4a6b-ef39-8d95851c84aa"
      },
      "source": [
        "Y"
      ],
      "execution_count": 19,
      "outputs": [
        {
          "output_type": "execute_result",
          "data": {
            "text/plain": [
              "0        8191.0\n",
              "1        2516.0\n",
              "2        7353.0\n",
              "3        7427.0\n",
              "4        3386.0\n",
              "         ...   \n",
              "655    293172.0\n",
              "656     29968.0\n",
              "657    230245.0\n",
              "658    115374.0\n",
              "659      7977.0\n",
              "Name: Nominal_GSDP_Series, Length: 660, dtype: float64"
            ]
          },
          "metadata": {
            "tags": []
          },
          "execution_count": 19
        }
      ]
    },
    {
      "cell_type": "code",
      "metadata": {
        "id": "4LzLuPGPS1-x"
      },
      "source": [
        "X_train, X_test, Y_train, Y_test = train_test_split(X, Y)"
      ],
      "execution_count": 20,
      "outputs": []
    },
    {
      "cell_type": "code",
      "metadata": {
        "id": "bVDn1cGuS5E_"
      },
      "source": [
        "from sklearn.preprocessing import StandardScaler\n",
        "scaler = StandardScaler()\n",
        "X_train = scaler.fit_transform(X_train)\n",
        "X_test = scaler.transform(X_test)"
      ],
      "execution_count": 21,
      "outputs": []
    },
    {
      "cell_type": "code",
      "metadata": {
        "colab": {
          "base_uri": "https://localhost:8080/"
        },
        "id": "pcaYXkaqS_iH",
        "outputId": "7d2d7742-fd37-41e0-e01d-7a97520f40d6"
      },
      "source": [
        "from sklearn.neural_network import MLPRegressor\n",
        "model = MLPRegressor(hidden_layer_sizes=(12, 12, 12, 12, 12, 12, 12, 12, 12, 12, 12), max_iter=5000)\n",
        "model.fit(X_train, Y_train)"
      ],
      "execution_count": 22,
      "outputs": [
        {
          "output_type": "execute_result",
          "data": {
            "text/plain": [
              "MLPRegressor(activation='relu', alpha=0.0001, batch_size='auto', beta_1=0.9,\n",
              "             beta_2=0.999, early_stopping=False, epsilon=1e-08,\n",
              "             hidden_layer_sizes=(12, 12, 12, 12, 12, 12, 12, 12, 12, 12, 12),\n",
              "             learning_rate='constant', learning_rate_init=0.001, max_fun=15000,\n",
              "             max_iter=5000, momentum=0.9, n_iter_no_change=10,\n",
              "             nesterovs_momentum=True, power_t=0.5, random_state=None,\n",
              "             shuffle=True, solver='adam', tol=0.0001, validation_fraction=0.1,\n",
              "             verbose=False, warm_start=False)"
            ]
          },
          "metadata": {
            "tags": []
          },
          "execution_count": 22
        }
      ]
    },
    {
      "cell_type": "code",
      "metadata": {
        "colab": {
          "base_uri": "https://localhost:8080/"
        },
        "id": "nTlIVw4tTFet",
        "outputId": "323a8bc7-9674-4143-81a4-c81fdd9b5e3c"
      },
      "source": [
        "model.score(X_test, Y_test)"
      ],
      "execution_count": 23,
      "outputs": [
        {
          "output_type": "execute_result",
          "data": {
            "text/plain": [
              "0.9441475657151857"
            ]
          },
          "metadata": {
            "tags": []
          },
          "execution_count": 23
        }
      ]
    },
    {
      "cell_type": "code",
      "metadata": {
        "colab": {
          "base_uri": "https://localhost:8080/",
          "height": 35
        },
        "id": "pD-EzMThTHty",
        "outputId": "b5b3bb24-ee6b-4017-f112-b8836e357619"
      },
      "source": [
        "from sklearn.metrics import mean_squared_error, r2_score\n",
        "Ya = Y_test\n",
        "Yp = model.predict(X_test)\n",
        "mse = mean_squared_error(Ya, Yp)\n",
        "R2 = r2_score(Ya, Yp)\n",
        "'MSE : {}, RMSE : {}, R2-Score : {}'.format(mse, np.sqrt(mse), R2)"
      ],
      "execution_count": 24,
      "outputs": [
        {
          "output_type": "execute_result",
          "data": {
            "application/vnd.google.colaboratory.intrinsic+json": {
              "type": "string"
            },
            "text/plain": [
              "'MSE : 214871546.4001857, RMSE : 14658.497412770032, R2-Score : 0.9441475657151857'"
            ]
          },
          "metadata": {
            "tags": []
          },
          "execution_count": 24
        }
      ]
    },
    {
      "cell_type": "code",
      "metadata": {
        "colab": {
          "base_uri": "https://localhost:8080/"
        },
        "id": "kyiSXHVrTPNi",
        "outputId": "fec1bc1e-eb70-43c5-c300-7b7a98564670"
      },
      "source": [
        "import pickle\n",
        "from sklearn.externals import joblib"
      ],
      "execution_count": 25,
      "outputs": [
        {
          "output_type": "stream",
          "text": [
            "/usr/local/lib/python3.7/dist-packages/sklearn/externals/joblib/__init__.py:15: FutureWarning: sklearn.externals.joblib is deprecated in 0.21 and will be removed in 0.23. Please import this functionality directly from joblib, which can be installed with: pip install joblib. If this warning is raised when loading pickled models, you may need to re-serialize those models with scikit-learn 0.21+.\n",
            "  warnings.warn(msg, category=FutureWarning)\n"
          ],
          "name": "stderr"
        }
      ]
    },
    {
      "cell_type": "code",
      "metadata": {
        "id": "PclL-9UwTUfh"
      },
      "source": [
        "filename = 'ML_DL_project_final/gdp_model.sav'\n",
        "scalerfile = 'ML_DL_project_final/gdp_scale.sav'"
      ],
      "execution_count": 26,
      "outputs": []
    },
    {
      "cell_type": "code",
      "metadata": {
        "colab": {
          "base_uri": "https://localhost:8080/"
        },
        "id": "EjWQ_rJFTbK6",
        "outputId": "c2db3f3f-0aa4-4fb9-f473-bd7c14bfb1df"
      },
      "source": [
        "pickle.dump(model, open(filename, 'wb'))\n",
        "pickle.dump(scaler, open(scalerfile, 'wb'))\n",
        "\n",
        "# using JobLib\n",
        "joblib.dump(model, 'gdp.model')\n",
        "joblib.dump(scaler, 'gdp.scaler')"
      ],
      "execution_count": 27,
      "outputs": [
        {
          "output_type": "execute_result",
          "data": {
            "text/plain": [
              "['gdp.scaler']"
            ]
          },
          "metadata": {
            "tags": []
          },
          "execution_count": 27
        }
      ]
    },
    {
      "cell_type": "code",
      "metadata": {
        "colab": {
          "base_uri": "https://localhost:8080/"
        },
        "id": "QuQcVAU8TdXm",
        "outputId": "52c2ac1a-b701-4199-e189-0dacd9e2307b"
      },
      "source": [
        "loaded_model = pickle.load(open(filename, 'rb'))\n",
        "loaded_scaler = pickle.load(open(scalerfile, 'rb'))\n",
        "result = loaded_model.score(X_test, Y_test)\n",
        "print(result)"
      ],
      "execution_count": 28,
      "outputs": [
        {
          "output_type": "stream",
          "text": [
            "0.9441475657151857\n"
          ],
          "name": "stdout"
        }
      ]
    },
    {
      "cell_type": "code",
      "metadata": {
        "id": "xJSA2fFCTgKF"
      },
      "source": [
        ""
      ],
      "execution_count": null,
      "outputs": []
    }
  ]
}